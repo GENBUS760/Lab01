{
  "nbformat": 4,
  "nbformat_minor": 0,
  "metadata": {
    "colab": {
      "name": "API.ipynb",
      "provenance": [],
      "include_colab_link": true
    },
    "kernelspec": {
      "name": "python3",
      "display_name": "Python 3"
    },
    "language_info": {
      "name": "python"
    }
  },
  "cells": [
    {
      "cell_type": "markdown",
      "metadata": {
        "id": "view-in-github",
        "colab_type": "text"
      },
      "source": [
        "<a href=\"https://colab.research.google.com/github/Vitchudap/Lab01/blob/main/042222APIclass.ipynb\" target=\"_parent\"><img src=\"https://colab.research.google.com/assets/colab-badge.svg\" alt=\"Open In Colab\"/></a>"
      ]
    },
    {
      "cell_type": "code",
      "execution_count": null,
      "metadata": {
        "id": "9RLvO72c4u7A"
      },
      "outputs": [],
      "source": [
        "import requests"
      ]
    },
    {
      "cell_type": "code",
      "source": [
        "#randomuser.me\n",
        "requests.get(\"https://randomuser.me/api/\")"
      ],
      "metadata": {
        "colab": {
          "base_uri": "https://localhost:8080/"
        },
        "id": "a5hhooZs49M3",
        "outputId": "6947e166-f1d0-4076-e266-342a8bd2faaf"
      },
      "execution_count": null,
      "outputs": [
        {
          "output_type": "execute_result",
          "data": {
            "text/plain": [
              "<Response [200]>"
            ]
          },
          "metadata": {},
          "execution_count": 2
        }
      ]
    },
    {
      "cell_type": "code",
      "source": [
        "response = requests.get(\"https://randomuser.me/api/\")\n",
        "response.text"
      ],
      "metadata": {
        "colab": {
          "base_uri": "https://localhost:8080/",
          "height": 142
        },
        "id": "-rCPEac85Gl4",
        "outputId": "66c15d8c-fb3d-45f3-a31f-0b71cacc124a"
      },
      "execution_count": null,
      "outputs": [
        {
          "output_type": "execute_result",
          "data": {
            "text/plain": [
              "'{\"results\":[{\"gender\":\"male\",\"name\":{\"title\":\"Mr\",\"first\":\"Özkan\",\"last\":\"Duygulu\"},\"location\":{\"street\":{\"number\":5777,\"name\":\"Kushimoto Sk\"},\"city\":\"Muş\",\"state\":\"Amasya\",\"country\":\"Turkey\",\"postcode\":83772,\"coordinates\":{\"latitude\":\"71.3416\",\"longitude\":\"-12.3347\"},\"timezone\":{\"offset\":\"+9:00\",\"description\":\"Tokyo, Seoul, Osaka, Sapporo, Yakutsk\"}},\"email\":\"ozkan.duygulu@example.com\",\"login\":{\"uuid\":\"e4e9390d-85ad-46e7-8c2f-22e1b4da0c50\",\"username\":\"blackzebra229\",\"password\":\"screwy\",\"salt\":\"IxM2A5Dc\",\"md5\":\"dfa6d43594982c7f5000632ae7c151ef\",\"sha1\":\"1e2923612991dd0fb8a0f11451482ad1fdbd0cdd\",\"sha256\":\"b1a9af153c26ee3bf9bf0ffcd5b7479efd94cf904f9e3107281515b2e47e9aa8\"},\"dob\":{\"date\":\"1953-08-13T21:53:40.754Z\",\"age\":69},\"registered\":{\"date\":\"2017-12-18T17:09:09.570Z\",\"age\":5},\"phone\":\"(728)-607-3064\",\"cell\":\"(176)-545-5212\",\"id\":{\"name\":\"\",\"value\":null},\"picture\":{\"large\":\"https://randomuser.me/api/portraits/men/8.jpg\",\"medium\":\"https://randomuser.me/api/portraits/med/men/8.jpg\",\"thumbnail\":\"https://randomuser.me/api/portraits/thumb/men/8.jpg\"},\"nat\":\"TR\"}],\"info\":{\"seed\":\"745940f86f55b378\",\"results\":1,\"page\":1,\"version\":\"1.3\"}}'"
            ],
            "application/vnd.google.colaboratory.intrinsic+json": {
              "type": "string"
            }
          },
          "metadata": {},
          "execution_count": 3
        }
      ]
    },
    {
      "cell_type": "code",
      "source": [
        "response.json()"
      ],
      "metadata": {
        "colab": {
          "base_uri": "https://localhost:8080/"
        },
        "id": "EV7iwvZS5Lvb",
        "outputId": "4170f290-844e-41de-f520-6649c03484dc"
      },
      "execution_count": null,
      "outputs": [
        {
          "output_type": "execute_result",
          "data": {
            "text/plain": [
              "{'info': {'page': 1,\n",
              "  'results': 1,\n",
              "  'seed': '745940f86f55b378',\n",
              "  'version': '1.3'},\n",
              " 'results': [{'cell': '(176)-545-5212',\n",
              "   'dob': {'age': 69, 'date': '1953-08-13T21:53:40.754Z'},\n",
              "   'email': 'ozkan.duygulu@example.com',\n",
              "   'gender': 'male',\n",
              "   'id': {'name': '', 'value': None},\n",
              "   'location': {'city': 'Muş',\n",
              "    'coordinates': {'latitude': '71.3416', 'longitude': '-12.3347'},\n",
              "    'country': 'Turkey',\n",
              "    'postcode': 83772,\n",
              "    'state': 'Amasya',\n",
              "    'street': {'name': 'Kushimoto Sk', 'number': 5777},\n",
              "    'timezone': {'description': 'Tokyo, Seoul, Osaka, Sapporo, Yakutsk',\n",
              "     'offset': '+9:00'}},\n",
              "   'login': {'md5': 'dfa6d43594982c7f5000632ae7c151ef',\n",
              "    'password': 'screwy',\n",
              "    'salt': 'IxM2A5Dc',\n",
              "    'sha1': '1e2923612991dd0fb8a0f11451482ad1fdbd0cdd',\n",
              "    'sha256': 'b1a9af153c26ee3bf9bf0ffcd5b7479efd94cf904f9e3107281515b2e47e9aa8',\n",
              "    'username': 'blackzebra229',\n",
              "    'uuid': 'e4e9390d-85ad-46e7-8c2f-22e1b4da0c50'},\n",
              "   'name': {'first': 'Özkan', 'last': 'Duygulu', 'title': 'Mr'},\n",
              "   'nat': 'TR',\n",
              "   'phone': '(728)-607-3064',\n",
              "   'picture': {'large': 'https://randomuser.me/api/portraits/men/8.jpg',\n",
              "    'medium': 'https://randomuser.me/api/portraits/med/men/8.jpg',\n",
              "    'thumbnail': 'https://randomuser.me/api/portraits/thumb/men/8.jpg'},\n",
              "   'registered': {'age': 5, 'date': '2017-12-18T17:09:09.570Z'}}]}"
            ]
          },
          "metadata": {},
          "execution_count": 4
        }
      ]
    },
    {
      "cell_type": "code",
      "source": [
        "request_female = requests.get(\"https://randomuser.me/api/?gender=female\")\n",
        "request_female.json()"
      ],
      "metadata": {
        "colab": {
          "base_uri": "https://localhost:8080/"
        },
        "id": "Wd03dS9u5NYo",
        "outputId": "d6e5c7b2-308a-4766-d8b4-05fe8257c144"
      },
      "execution_count": null,
      "outputs": [
        {
          "output_type": "execute_result",
          "data": {
            "text/plain": [
              "{'info': {'page': 1,\n",
              "  'results': 1,\n",
              "  'seed': '9af6e0726c3c2141',\n",
              "  'version': '1.3'},\n",
              " 'results': [{'cell': '0170-0624473',\n",
              "   'dob': {'age': 69, 'date': '1953-10-28T13:38:41.468Z'},\n",
              "   'email': 'anika.reichl@example.com',\n",
              "   'gender': 'female',\n",
              "   'id': {'name': '', 'value': None},\n",
              "   'location': {'city': 'Bad Rodach',\n",
              "    'coordinates': {'latitude': '-41.7941', 'longitude': '-162.0993'},\n",
              "    'country': 'Germany',\n",
              "    'postcode': 77069,\n",
              "    'state': 'Mecklenburg-Vorpommern',\n",
              "    'street': {'name': 'Rosenweg', 'number': 7675},\n",
              "    'timezone': {'description': 'Atlantic Time (Canada), Caracas, La Paz',\n",
              "     'offset': '-4:00'}},\n",
              "   'login': {'md5': '76a6639602267ac0688dd57e1c6afc4a',\n",
              "    'password': 'jungle',\n",
              "    'salt': 'oSIXYjwU',\n",
              "    'sha1': '5c258e30a73b9932ab3cab93ff1cce8ad625ad96',\n",
              "    'sha256': '2207c3135ae597198b4cf61404d112feac03d84c24d8119a36de3411bc809a94',\n",
              "    'username': 'bigelephant382',\n",
              "    'uuid': 'b54cc17b-3b9c-4c25-8813-5225249ad6c9'},\n",
              "   'name': {'first': 'Anika', 'last': 'Reichl', 'title': 'Miss'},\n",
              "   'nat': 'DE',\n",
              "   'phone': '0125-6848608',\n",
              "   'picture': {'large': 'https://randomuser.me/api/portraits/women/36.jpg',\n",
              "    'medium': 'https://randomuser.me/api/portraits/med/women/36.jpg',\n",
              "    'thumbnail': 'https://randomuser.me/api/portraits/thumb/women/36.jpg'},\n",
              "   'registered': {'age': 18, 'date': '2004-10-25T09:03:46.629Z'}}]}"
            ]
          },
          "metadata": {},
          "execution_count": 5
        }
      ]
    },
    {
      "cell_type": "code",
      "source": [
        "request_female_fr = requests.get(\"https://randomuser.me/api/?gender=female&nat=fr\")\n",
        "request_female_fr.json()"
      ],
      "metadata": {
        "colab": {
          "base_uri": "https://localhost:8080/"
        },
        "id": "TYU_P4W15Sqz",
        "outputId": "80550e4d-dbf8-48de-8251-f431893c4036"
      },
      "execution_count": null,
      "outputs": [
        {
          "output_type": "execute_result",
          "data": {
            "text/plain": [
              "{'info': {'page': 1,\n",
              "  'results': 1,\n",
              "  'seed': '0d7843e486a08064',\n",
              "  'version': '1.3'},\n",
              " 'results': [{'cell': '06-90-69-11-34',\n",
              "   'dob': {'age': 63, 'date': '1959-12-21T22:05:07.268Z'},\n",
              "   'email': 'selena.rolland@example.com',\n",
              "   'gender': 'female',\n",
              "   'id': {'name': 'INSEE', 'value': '2NNaN55463279 05'},\n",
              "   'location': {'city': 'Tours',\n",
              "    'coordinates': {'latitude': '-52.7745', 'longitude': '163.1257'},\n",
              "    'country': 'France',\n",
              "    'postcode': 95820,\n",
              "    'state': 'Aube',\n",
              "    'street': {'name': 'Rue Victor-Hugo', 'number': 9280},\n",
              "    'timezone': {'description': 'Eastern Australia, Guam, Vladivostok',\n",
              "     'offset': '+10:00'}},\n",
              "   'login': {'md5': 'f9a50552b3997b92249c1d25d95e7f45',\n",
              "    'password': 'gallaries',\n",
              "    'salt': 'DKUp9kCg',\n",
              "    'sha1': '69ce68bcccbdf7ad494192fa41ee24daa1eeb864',\n",
              "    'sha256': 'a79f5926c346e16d69ee0947b07aef2c9dc972df6e64d2606e624d680b1bd673',\n",
              "    'username': 'crazyrabbit943',\n",
              "    'uuid': 'e6eeff1f-79c3-4f27-964c-e4cd8dccf634'},\n",
              "   'name': {'first': 'Séléna', 'last': 'Rolland', 'title': 'Mrs'},\n",
              "   'nat': 'FR',\n",
              "   'phone': '03-88-89-32-28',\n",
              "   'picture': {'large': 'https://randomuser.me/api/portraits/women/79.jpg',\n",
              "    'medium': 'https://randomuser.me/api/portraits/med/women/79.jpg',\n",
              "    'thumbnail': 'https://randomuser.me/api/portraits/thumb/women/79.jpg'},\n",
              "   'registered': {'age': 6, 'date': '2016-04-13T05:27:28.823Z'}}]}"
            ]
          },
          "metadata": {},
          "execution_count": 6
        }
      ]
    },
    {
      "cell_type": "code",
      "source": [
        "request_dog = requests.get(\"https://api.thedogapi.com/\")\n",
        "\n",
        "request_dog.json()"
      ],
      "metadata": {
        "colab": {
          "base_uri": "https://localhost:8080/"
        },
        "id": "DfHvIi0m5YI0",
        "outputId": "3f53a59e-8f8c-4939-a529-7873bb7bc976"
      },
      "execution_count": null,
      "outputs": [
        {
          "output_type": "execute_result",
          "data": {
            "text/plain": [
              "{'message': 'The Dog API'}"
            ]
          },
          "metadata": {},
          "execution_count": 7
        }
      ]
    },
    {
      "cell_type": "code",
      "source": [
        "response.status_code\n",
        "response.reason\n",
        "response.headers"
      ],
      "metadata": {
        "colab": {
          "base_uri": "https://localhost:8080/"
        },
        "id": "AtqcCg0s6I71",
        "outputId": "b64be5ce-4f9b-4be5-c6c7-83cade161d29"
      },
      "execution_count": null,
      "outputs": [
        {
          "output_type": "execute_result",
          "data": {
            "text/plain": [
              "{'Date': 'Sat, 23 Apr 2022 00:48:42 GMT', 'Content-Type': 'application/json; charset=utf-8', 'Transfer-Encoding': 'chunked', 'Connection': 'keep-alive', 'X-Powered-By': 'Express', 'Access-Control-Allow-Origin': '*', 'Cache-Control': 'no-cache', 'ETag': 'W/\"47b-/HIVFZ7O2HEzQEi1IcXielGss+g\"', 'Vary': 'Accept-Encoding', 'Content-Encoding': 'gzip', 'CF-Cache-Status': 'DYNAMIC', 'Expect-CT': 'max-age=604800, report-uri=\"https://report-uri.cloudflare.com/cdn-cgi/beacon/expect-ct\"', 'Report-To': '{\"endpoints\":[{\"url\":\"https:\\\\/\\\\/a.nel.cloudflare.com\\\\/report\\\\/v3?s=oz9Jkn1O%2FMYaZfWX55ppPlvg4G8q9Y0smt6TK%2FlA5F3%2FT22qw9RNkAhFdqz5DxB20QL9WaNbQ6e9wi6ynhPVwOyuBY7yBl%2B%2FEAO%2BAG0bxuVLeItoE7km7JqeE5wbKo7N\"}],\"group\":\"cf-nel\",\"max_age\":604800}', 'NEL': '{\"success_fraction\":0,\"report_to\":\"cf-nel\",\"max_age\":604800}', 'Server': 'cloudflare', 'CF-RAY': '70029857cc4a6feb-IAD', 'alt-svc': 'h3=\":443\"; ma=86400, h3-29=\":443\"; ma=86400'}"
            ]
          },
          "metadata": {},
          "execution_count": 8
        }
      ]
    },
    {
      "cell_type": "code",
      "source": [
        "endpoint = \"https://randomuser.me/api/\"\n",
        "params = {\"gender\": \"female\", \"net\": \"fr\" }\n",
        "\n",
        "requests.get(endpoint, params = params).json()"
      ],
      "metadata": {
        "colab": {
          "base_uri": "https://localhost:8080/"
        },
        "id": "OewHfgmb6LT5",
        "outputId": "dcf30b0a-57a5-45cb-c33c-065d460a1a25"
      },
      "execution_count": null,
      "outputs": [
        {
          "output_type": "execute_result",
          "data": {
            "text/plain": [
              "{'info': {'page': 1,\n",
              "  'results': 1,\n",
              "  'seed': '2ee7b079f0e87dba',\n",
              "  'version': '1.3'},\n",
              " 'results': [{'cell': '0178-2294910',\n",
              "   'dob': {'age': 57, 'date': '1965-07-27T13:43:35.176Z'},\n",
              "   'email': 'urszula.siegmund@example.com',\n",
              "   'gender': 'female',\n",
              "   'id': {'name': '', 'value': None},\n",
              "   'location': {'city': 'Senden',\n",
              "    'coordinates': {'latitude': '-46.3072', 'longitude': '160.3771'},\n",
              "    'country': 'Germany',\n",
              "    'postcode': 97547,\n",
              "    'state': 'Sachsen',\n",
              "    'street': {'name': 'Römerstraße', 'number': 177},\n",
              "    'timezone': {'description': 'Alaska', 'offset': '-9:00'}},\n",
              "   'login': {'md5': '93870859726c948dca6b336cab3757d3',\n",
              "    'password': 'medicine',\n",
              "    'salt': '5rimp1xg',\n",
              "    'sha1': '057545381a560f0998e75f596b2a615ebb65b740',\n",
              "    'sha256': '73e3d64c4de522302dfcbe5b91bff20396577a9ebce91f72dc4c63a9f6f68750',\n",
              "    'username': 'browncat860',\n",
              "    'uuid': 'd220dccf-e423-43d6-9931-d6312a099166'},\n",
              "   'name': {'first': 'Urszula', 'last': 'Siegmund', 'title': 'Miss'},\n",
              "   'nat': 'DE',\n",
              "   'phone': '0160-5613455',\n",
              "   'picture': {'large': 'https://randomuser.me/api/portraits/women/11.jpg',\n",
              "    'medium': 'https://randomuser.me/api/portraits/med/women/11.jpg',\n",
              "    'thumbnail': 'https://randomuser.me/api/portraits/thumb/women/11.jpg'},\n",
              "   'registered': {'age': 16, 'date': '2006-03-05T06:31:29.042Z'}}]}"
            ]
          },
          "metadata": {},
          "execution_count": 9
        }
      ]
    },
    {
      "cell_type": "code",
      "source": [
        "endpoint1 = \"https://api.thedogapi.com/v1/breeds/search\"\n",
        "params1 = {\"name\": \"Vizsla\"}\n",
        "\n",
        "\n",
        "requests.get(endpoint1, params = params1).json()"
      ],
      "metadata": {
        "colab": {
          "base_uri": "https://localhost:8080/"
        },
        "id": "lRx-weXi6lZ5",
        "outputId": "15ef34f8-f201-423a-bc14-225067e1f6f1"
      },
      "execution_count": null,
      "outputs": [
        {
          "output_type": "execute_result",
          "data": {
            "text/plain": [
              "[{'bred_for': 'Pointing and trailing',\n",
              "  'breed_group': 'Sporting',\n",
              "  'height': {'imperial': '21 - 24', 'metric': '53 - 61'},\n",
              "  'id': 251,\n",
              "  'life_span': '10 - 14 years',\n",
              "  'name': 'Vizsla',\n",
              "  'reference_image_id': 'r1o0jx9Em',\n",
              "  'temperament': 'Affectionate, Energetic, Loyal, Gentle, Quiet',\n",
              "  'weight': {'imperial': '50 - 65', 'metric': '23 - 29'}},\n",
              " {'breed_group': 'Sporting',\n",
              "  'height': {'imperial': '21.5 - 25', 'metric': '55 - 64'},\n",
              "  'id': 261,\n",
              "  'life_span': '12 - 14 years',\n",
              "  'name': 'Wirehaired Vizsla',\n",
              "  'reference_image_id': 'r1I4hl5Em',\n",
              "  'weight': {'imperial': '45 - 65', 'metric': '20 - 29'}}]"
            ]
          },
          "metadata": {},
          "execution_count": 11
        }
      ]
    },
    {
      "cell_type": "code",
      "source": [
        "endpoint2 = \"https://api.usaspending.gov/api/v2/federal_obligations/\"\n",
        "params2 = {\"fiscal_year\":2019,\"funding_agency_id\":801}\n",
        "\n",
        "requests.get(endpoint2, params=params2).json()"
      ],
      "metadata": {
        "colab": {
          "base_uri": "https://localhost:8080/"
        },
        "id": "qM8LX8f76cSV",
        "outputId": "9c6300fa-71c3-4c19-ca54-f1842cb6153c"
      },
      "execution_count": null,
      "outputs": [
        {
          "output_type": "execute_result",
          "data": {
            "text/plain": [
              "{'page_metadata': {'count': 37,\n",
              "  'current': 'https://api.usaspending.gov/api/v2/federal_obligations/?fiscal_year=2019&funding_agency_id=801&limit=100&page=1',\n",
              "  'has_next_page': False,\n",
              "  'has_previous_page': False,\n",
              "  'next': None,\n",
              "  'page': 1,\n",
              "  'previous': None},\n",
              " 'results': [{'account_number': '072-1035',\n",
              "   'account_title': 'International Disaster Assistance, Funds Appropriated to the President, US Agency for International Development',\n",
              "   'id': '5348',\n",
              "   'obligated_amount': '4694757756.00'},\n",
              "  {'account_number': '072-1037',\n",
              "   'account_title': 'Economic Support Fund, Funds Appropriated to the President',\n",
              "   'id': '5349',\n",
              "   'obligated_amount': '4446887945.90'},\n",
              "  {'account_number': '072-1021',\n",
              "   'account_title': 'Development Assistance, Agency for International Development, Funds Appropriated to the President',\n",
              "   'id': '5341',\n",
              "   'obligated_amount': '3007312461.02'},\n",
              "  {'account_number': '072-1000',\n",
              "   'account_title': 'Operating Expenses of the United States Agency for International Development, Funds Appropriated to the President',\n",
              "   'id': '5334',\n",
              "   'obligated_amount': '1488346595.49'},\n",
              "  {'account_number': '072-0306',\n",
              "   'account_title': 'Assistance for Europe, Eurasia, and Central Asia, Funds Appropriated to the President, US Agency for International Development',\n",
              "   'id': '5329',\n",
              "   'obligated_amount': '745782709.45'},\n",
              "  {'account_number': '072-1033',\n",
              "   'account_title': 'HIV/AIDS Working Capital Fund, Agency for International Development',\n",
              "   'id': '5347',\n",
              "   'obligated_amount': '582764699.81'},\n",
              "  {'account_number': '072-0300',\n",
              "   'account_title': 'Capital Investment Fund of the United States Agency for International Development, Funds Appropriated to the President',\n",
              "   'id': '5324',\n",
              "   'obligated_amount': '240748269.40'},\n",
              "  {'account_number': '072-0409',\n",
              "   'account_title': 'MENA Loan Guarantee Program Account, Funds Appropriated to the President, US Agency for International Development',\n",
              "   'id': '5333',\n",
              "   'obligated_amount': '194409575.00'},\n",
              "  {'account_number': '072-8502',\n",
              "   'account_title': 'Technical Assistance, United States Dollars Advanced from Foreign Governments, Agency for International Development',\n",
              "   'id': '5371',\n",
              "   'obligated_amount': '145636851.08'},\n",
              "  {'account_number': '072-1027',\n",
              "   'account_title': 'Transition Initiatives, Funds Appropriated to the President, US Agency for International Development',\n",
              "   'id': '5345',\n",
              "   'obligated_amount': '95168541.06'},\n",
              "  {'account_number': '072-8824',\n",
              "   'account_title': 'Gifts and Donations, Agency for International Development',\n",
              "   'id': '5372',\n",
              "   'obligated_amount': '91296043.39'},\n",
              "  {'account_number': '072-1007',\n",
              "   'account_title': 'Operating Expenses of the United States Agency for International Development, Office of Inspector General, Funds Appropriated to the President',\n",
              "   'id': '5336',\n",
              "   'obligated_amount': '83184121.74'},\n",
              "  {'account_number': '072-1264',\n",
              "   'account_title': 'Development Credit Authority, United States International Development Finance Corporation',\n",
              "   'id': '5355',\n",
              "   'obligated_amount': '41485009.64'},\n",
              "  {'account_number': '072-1015',\n",
              "   'account_title': 'Complex Crises Fund, Funds Appropriated to the President, US Agency for International Development',\n",
              "   'id': '5340',\n",
              "   'obligated_amount': '17532773.50'},\n",
              "  {'account_number': '072-4513',\n",
              "   'account_title': 'Working Capital Fund, International Assistance Program',\n",
              "   'id': '5361',\n",
              "   'obligated_amount': '15460518.57'},\n",
              "  {'account_number': '072-8342',\n",
              "   'account_title': 'Foreign National Employees Separation Liability Fund, Agency for International Development',\n",
              "   'id': '5370',\n",
              "   'obligated_amount': '8629780.19'},\n",
              "  {'account_number': '072-1095',\n",
              "   'account_title': 'Child Survival and Health Programs Fund, United States Agency for International Development',\n",
              "   'id': '5353',\n",
              "   'obligated_amount': '4363027.33'},\n",
              "  {'account_number': '072-4340',\n",
              "   'account_title': 'Housing and Other Credit Guaranty Programs, Liquidating Account, United States Agency for International Development',\n",
              "   'id': '5359',\n",
              "   'obligated_amount': '4233108.56'},\n",
              "  {'account_number': '072-4103',\n",
              "   'account_title': 'Development Loan Fund, Executive, United States Agency for International Development',\n",
              "   'id': '5357',\n",
              "   'obligated_amount': '3718872.98'},\n",
              "  {'account_number': '072-4175',\n",
              "   'account_title': 'Property Management Fund, Agency for International Development',\n",
              "   'id': '5358',\n",
              "   'obligated_amount': '2196537.50'},\n",
              "  {'account_number': '072-0305',\n",
              "   'account_title': 'Civilian Stabilization Initiative, Funds Appropriated to the President, Agency for International Development',\n",
              "   'id': '5328',\n",
              "   'obligated_amount': '409444.64'},\n",
              "  {'account_number': '072-1010',\n",
              "   'account_title': 'Assistance for Eastern Europe and the Baltic States, Funds Appropriated to the President',\n",
              "   'id': '5337',\n",
              "   'obligated_amount': '319318.42'},\n",
              "  {'account_number': '072-4341',\n",
              "   'account_title': 'Private Sector Revolving Fund, Liquidating Account, United States Agency for International Development',\n",
              "   'id': '5360',\n",
              "   'obligated_amount': '13934.61'},\n",
              "  {'account_number': '072-0400',\n",
              "   'account_title': 'Micro and Small Enterprise Development Program Account, Agency for International Development',\n",
              "   'id': '5330',\n",
              "   'obligated_amount': '0.00'},\n",
              "  {'account_number': '072-0401',\n",
              "   'account_title': 'Urban and Environmental Credit Program Account, United States Agency for International Development',\n",
              "   'id': '5331',\n",
              "   'obligated_amount': '0.00'},\n",
              "  {'account_number': '072-0402',\n",
              "   'account_title': 'Assistance for the New Independent States of the Former Soviet Union:  Ukraine Export Credit Insurance Program Account',\n",
              "   'id': '5332',\n",
              "   'obligated_amount': '0.00'},\n",
              "  {'account_number': '072-1012',\n",
              "   'account_title': 'Sahel Development Program, Funds Appropriated to the President',\n",
              "   'id': '5338',\n",
              "   'obligated_amount': '0.00'},\n",
              "  {'account_number': '072-1014',\n",
              "   'account_title': 'Sub-Saharan Africa, Development Assistance, Funds Appropriated to the President',\n",
              "   'id': '5339',\n",
              "   'obligated_amount': '0.00'},\n",
              "  {'account_number': '072-1023',\n",
              "   'account_title': 'Food and Nutrition, Development Assistance, Economic Assistance, Funds Appropriated to the President',\n",
              "   'id': '5342',\n",
              "   'obligated_amount': '0.00'},\n",
              "  {'account_number': '072-1024',\n",
              "   'account_title': 'Population Planning and Health, Development Assistance, Economic Assistance, Funds Appropriated to the President',\n",
              "   'id': '5343',\n",
              "   'obligated_amount': '0.00'},\n",
              "  {'account_number': '072-1025',\n",
              "   'account_title': 'Education and Human Resources Development, Development Assistance, Economic Assistance, Funds Appropriated to the President',\n",
              "   'id': '5344',\n",
              "   'obligated_amount': '0.00'},\n",
              "  {'account_number': '072-1040',\n",
              "   'account_title': 'Sub-Saharan Africa Disaster Assistance, Funds Appropriated to the President',\n",
              "   'id': '5351',\n",
              "   'obligated_amount': '0.00'},\n",
              "  {'account_number': '072-1093',\n",
              "   'account_title': 'Assistance for the Independent States of the Former Soviet Union, Funds Appropriated to the President, United States Agency for International Development',\n",
              "   'id': '5352',\n",
              "   'obligated_amount': '0.00'},\n",
              "  {'account_number': '072-1096',\n",
              "   'account_title': 'Central America and the Caribbean Emergency Disaster Recovery Fund, Agency for International Development',\n",
              "   'id': '5354',\n",
              "   'obligated_amount': '0.00'},\n",
              "  {'account_number': '072-1500',\n",
              "   'account_title': 'Demobilization and Transition Fund, Funds Appropriated to the President',\n",
              "   'id': '5356',\n",
              "   'obligated_amount': '0.00'},\n",
              "  {'account_number': '072-4590',\n",
              "   'account_title': 'Acquisition of Property Revolving Fund, Agency for International Development',\n",
              "   'id': '5362',\n",
              "   'obligated_amount': '0.00'},\n",
              "  {'account_number': '072-5318',\n",
              "   'account_title': 'Loan Guarantees to Israel Program, Reimbursements of Administrative Expenses, Agency for International Development',\n",
              "   'id': '5363',\n",
              "   'obligated_amount': '0.00'}]}"
            ]
          },
          "metadata": {},
          "execution_count": 12
        }
      ]
    }
  ]
}